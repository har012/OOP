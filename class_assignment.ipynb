{
  "nbformat": 4,
  "nbformat_minor": 0,
  "metadata": {
    "colab": {
      "name": "class_assignment.ipynb",
      "provenance": [],
      "collapsed_sections": [],
      "authorship_tag": "ABX9TyOBi4DvfRrsyVRE/SX2+Mwl",
      "include_colab_link": true
    },
    "kernelspec": {
      "name": "python3",
      "display_name": "Python 3"
    },
    "language_info": {
      "name": "python"
    }
  },
  "cells": [
    {
      "cell_type": "markdown",
      "metadata": {
        "id": "view-in-github",
        "colab_type": "text"
      },
      "source": [
        "<a href=\"https://colab.research.google.com/github/har012/OOP/blob/main/class_assignment.ipynb\" target=\"_parent\"><img src=\"https://colab.research.google.com/assets/colab-badge.svg\" alt=\"Open In Colab\"/></a>"
      ]
    },
    {
      "cell_type": "markdown",
      "metadata": {
        "id": "Sw_BKkBRCZ01"
      },
      "source": [
        "# **1**"
      ]
    },
    {
      "cell_type": "code",
      "metadata": {
        "colab": {
          "base_uri": "https://localhost:8080/"
        },
        "id": "r2BdtcostSWi",
        "outputId": "eea77b52-1d2c-4dec-8b1d-0ede1efe2a0b"
      },
      "source": [
        "pie=float(22/7)\n",
        "class circle():\n",
        "  def __init__(self,radius):\n",
        "    self.radius = radius\n",
        "  def area(self):\n",
        "    return(pie)*(self.radius**2)\n",
        "  def perimeter(self):\n",
        "    return 2*(pie)*(self.radius)\n",
        "r=float(input(\"Enter the value of radius of the circle :\"))\n",
        "object = circle(r)\n",
        "print(\"Area of the circle:\", round(object.area(),2))\n",
        "print(\"Perimeter of the circle:\", round(object.perimeter(),2))"
      ],
      "execution_count": null,
      "outputs": [
        {
          "output_type": "stream",
          "name": "stdout",
          "text": [
            "Enter the value of radius of the circle :15\n",
            "Area of the circle: 707.14\n",
            "Perimeter of the circle: 94.29\n"
          ]
        }
      ]
    },
    {
      "cell_type": "markdown",
      "metadata": {
        "id": "0xNOMTxfCl_7"
      },
      "source": [
        "# **2**"
      ]
    },
    {
      "cell_type": "code",
      "metadata": {
        "colab": {
          "base_uri": "https://localhost:8080/"
        },
        "id": "A2OPMbssCqrr",
        "outputId": "613de60a-72d4-4cbc-c715-1f13ad2c55c8"
      },
      "source": [
        "class Faculty:\n",
        "    \n",
        "    def input_data(self):\n",
        "        self.name = str(input(\"Enter the name of the Faculty : \"))\n",
        "        self.emp_ID = int(input(\"Enter the faculty ID : \"))\n",
        "        self.branch = str(input(\"Enter the branch : \"))\n",
        "        self.salary = int(input(\"Enter the salary : \"))\n",
        "\n",
        "    def out_data(self):\n",
        "        print(f\"Faculty Name : {self.name} \\n Faculty Employee ID : {self.emp_ID} \\n Faculty Branch : {self.branch} \\n Faculty Salary : {self.salary}\\n\")\n",
        "        return self.name, self.emp_ID, self.branch, self.salary\n",
        "\n",
        "list_fac = []\n",
        "for x in range(1,6):\n",
        "    temp = Faculty()\n",
        "    print(f\"\\nEnter the data for {x} faculty : \")\n",
        "    temp.input_data()\n",
        "    list_fac.append(temp)\n",
        "\n",
        "for x in range(0,5):\n",
        "    print(f\"\\n\\n\\nData of {x+1} faculty : \")\n",
        "    list_fac[x].out_data()"
      ],
      "execution_count": null,
      "outputs": [
        {
          "output_type": "stream",
          "name": "stdout",
          "text": [
            "\n",
            "Enter the data for 1 faculty : \n",
            "Enter the name of the Faculty : Steve\n",
            "Enter the faculty ID : 001\n",
            "Enter the branch : cse\n",
            "Enter the salary : 15000\n",
            "\n",
            "Enter the data for 2 faculty : \n",
            "Enter the name of the Faculty : Tony\n",
            "Enter the faculty ID : 002\n",
            "Enter the branch : cse\n",
            "Enter the salary : 80000\n",
            "\n",
            "Enter the data for 3 faculty : \n",
            "Enter the name of the Faculty : Raju\n",
            "Enter the faculty ID : 003\n",
            "Enter the branch : cse\n",
            "Enter the salary : 20000\n",
            "\n",
            "Enter the data for 4 faculty : \n",
            "Enter the name of the Faculty : Chris\n",
            "Enter the faculty ID : 004\n",
            "Enter the branch : cse\n",
            "Enter the salary : 30000\n",
            "\n",
            "Enter the data for 5 faculty : \n",
            "Enter the name of the Faculty : Rogers\n",
            "Enter the faculty ID : 005\n",
            "Enter the branch : cse\n",
            "Enter the salary : 25000\n",
            "\n",
            "\n",
            "\n",
            "Data of 1 faculty : \n",
            "Faculty Name : Steve \n",
            " Faculty Employee ID : 1 \n",
            " Faculty Branch : cse \n",
            " Faculty Salary : 15000\n",
            "\n",
            "\n",
            "\n",
            "\n",
            "Data of 2 faculty : \n",
            "Faculty Name : Tony \n",
            " Faculty Employee ID : 2 \n",
            " Faculty Branch : cse \n",
            " Faculty Salary : 80000\n",
            "\n",
            "\n",
            "\n",
            "\n",
            "Data of 3 faculty : \n",
            "Faculty Name : Raju \n",
            " Faculty Employee ID : 3 \n",
            " Faculty Branch : cse \n",
            " Faculty Salary : 20000\n",
            "\n",
            "\n",
            "\n",
            "\n",
            "Data of 4 faculty : \n",
            "Faculty Name : Chris \n",
            " Faculty Employee ID : 4 \n",
            " Faculty Branch : cse \n",
            " Faculty Salary : 30000\n",
            "\n",
            "\n",
            "\n",
            "\n",
            "Data of 5 faculty : \n",
            "Faculty Name : Rogers \n",
            " Faculty Employee ID : 5 \n",
            " Faculty Branch : cse \n",
            " Faculty Salary : 25000\n",
            "\n"
          ]
        }
      ]
    },
    {
      "cell_type": "markdown",
      "metadata": {
        "id": "ayxTF-4TCw7r"
      },
      "source": [
        "# **3**"
      ]
    },
    {
      "cell_type": "code",
      "metadata": {
        "colab": {
          "base_uri": "https://localhost:8080/"
        },
        "id": "uR5_zNF2Cynj",
        "outputId": "297cd1f2-f42b-44cc-fe35-9174dcb49de9"
      },
      "source": [
        "class Account:\n",
        "    def __init__(self, account_number, account_holder_name, amount):\n",
        "        self.accountNumber = account_number\n",
        "        self.accountHolderName = account_holder_name\n",
        "        self.Amount = amount\n",
        "\n",
        "    def deposit(self):\n",
        "        deposit_Amount = int(input(\"Enter the amount to deposit in your bank: \"))\n",
        "        self.Amount += deposit_Amount\n",
        "        print(f\"Amount deposited : {deposit_Amount} \\n New Balance : {self.Amount}\")\n",
        "\n",
        "    def withdraw(self):\n",
        "        withdraw_Amount = int(input(\"Enter the amount to withdraw from your account: \"))\n",
        "        if withdraw_Amount > self.Amount:\n",
        "            print(\"Low bank balance.\")\n",
        "            return -1\n",
        "        self.Amount -= withdraw_Amount\n",
        "        print(f\"Amount withdraw : {withdraw_Amount} \\n New Balance Avaliable= {self.Amount}\")\n",
        "        return withdraw_Amount\n",
        "\n",
        "    def check_bank_Balance(self):\n",
        "        print(f\"Account Balance : {self.Amount}\")\n",
        "        return self.Amount\n",
        "\n",
        "    def getDetails(self):\n",
        "        print(f\"\\n Account Number : {self.accountNumber} \\n Account Holder Name : {self.accountHolderName} \\n Account Balance : {self.Amount}\")\n",
        "        return self.accountNumber, self.accountHolderName, self.Amount\n",
        "\n",
        "a1 = Account(21, \"Harshith.R.N\", 20000)\n",
        "a1.deposit()\n",
        "withdraw = a1.withdraw()\n",
        "balance = a1.check_bank_Balance()\n",
        "details = a1.getDetails()"
      ],
      "execution_count": null,
      "outputs": [
        {
          "output_type": "stream",
          "name": "stdout",
          "text": [
            "Enter the amount to deposit in your bank: 5000\n",
            "Amount deposited : 5000 \n",
            " New Balance : 25000\n",
            "Enter the amount to withdraw from your account: 500\n",
            "Amount withdraw : 500 \n",
            " New Balance Avaliable= 24500\n",
            "Account Balance : 24500\n",
            "\n",
            " Account Number : 21 \n",
            " Account Holder Name : Harshith.R.N \n",
            " Account Balance : 24500\n"
          ]
        }
      ]
    },
    {
      "cell_type": "markdown",
      "metadata": {
        "id": "6dwzekN-C2Mq"
      },
      "source": [
        "# **4**"
      ]
    },
    {
      "cell_type": "code",
      "metadata": {
        "colab": {
          "base_uri": "https://localhost:8080/"
        },
        "id": "bX8XSSTJ-uCJ",
        "outputId": "0cf15e19-3697-4649-fa23-4b03d0bb2934"
      },
      "source": [
        "class Student:\n",
        "    marks = []\n",
        "    def getData(self, rn, name, m1, m2, m3):\n",
        "        Student.rn = rn\n",
        "        Student.name = name\n",
        "        Student.marks.append(m1)\n",
        "        Student.marks.append(m2)\n",
        "        Student.marks.append(m3)\n",
        "        \n",
        "    def displayData(self):\n",
        "        print (\"Roll Number is: \", Student.rn)\n",
        "        print (\"Name is: \", Student.name)\n",
        "        #print (\"Marks in subject 1: \", Student.marks[0])\n",
        "        #print (\"Marks in subject 2: \", Student.marks[1])\n",
        "        #print (\"Marks in subject 3: \", Student.marks[2])\n",
        "        print (\"Marks are: \", Student.marks)\n",
        "        print (\"Total Marks are: \", self.total())\n",
        "        print (\"Average Marks are: \", self.average())\n",
        "        \n",
        "    def total(self):\n",
        "        return (Student.marks[0] + Student.marks[1] +Student.marks[2])\n",
        "    \n",
        "    def average(self):\n",
        "        return ((Student.marks[0] + Student.marks[1] +Student.marks[2])/3)\n",
        "    \n",
        "r = int (input(\"Enter the roll number: \"))\n",
        "name = input(\"Enter the name: \")\n",
        "m1 = int (input(\"Enter the marks scored in the subject 1: \"))\n",
        "m2 = int (input(\"Enter the marks scored in the subject 2: \"))\n",
        "m3 = int (input(\"Enter the marks scored in the subject 3: \"))\n",
        "\n",
        "s1 = Student()\n",
        "s1.getData(r, name, m1, m2, m3)\n",
        "s1.displayData()"
      ],
      "execution_count": null,
      "outputs": [
        {
          "output_type": "stream",
          "name": "stdout",
          "text": [
            "Enter the roll number: 56\n",
            "Enter the name: sh\n",
            "Enter the marks scored in the subject 1: 45\n",
            "Enter the marks scored in the subject 2: 45\n",
            "Enter the marks scored in the subject 3: 45\n",
            "Roll Number is:  56\n",
            "Name is:  sh\n",
            "Marks are:  [45, 45, 45]\n",
            "Total Marks are:  135\n",
            "Average Marks are:  45.0\n"
          ]
        }
      ]
    },
    {
      "cell_type": "markdown",
      "metadata": {
        "id": "kAfelH56DaQD"
      },
      "source": [
        "# **5**"
      ]
    },
    {
      "cell_type": "code",
      "metadata": {
        "colab": {
          "base_uri": "https://localhost:8080/"
        },
        "id": "R9X5cj50Dbgs",
        "outputId": "420a769b-931c-4476-a250-b0d78f83dcc5"
      },
      "source": [
        "class Patient:\n",
        "  def __init__(self, name, admission_date, symptoms : list, oxygen_level, discharge_date):\n",
        "    self.name = name\n",
        "    self.admission_date = admission_date\n",
        "    self.symptoms = symptoms\n",
        "    self.oxygen_level = oxygen_level\n",
        "    self.discharge_date = discharge_date\n",
        "\n",
        "class Data:\n",
        "  def __init__(self):\n",
        "    self.oxygen_support = []\n",
        "    self.general_ward = []\n",
        "\n",
        "  def Patient(self, patient):\n",
        "    if (patient.oxygen_level < 90):\n",
        "      self.oxygen_support.append(patient)\n",
        "    else:\n",
        "      self.general_ward.append(patient)\n",
        "\n",
        "  def numberOxygen(self):\n",
        "    print(f\"Totaal number of patients needing oxygen support is {len(self.oxygen_support)}\")\n",
        "\n",
        "  def numberGeneral(self):\n",
        "    print(f\"Total number of patients in general ward is {len(self.general_ward)}\")\n",
        "\n",
        "  def totalPatients(self):\n",
        "    print(f\"Total number of patients is {len(self.general_ward)+len(self.oxygen_support)}\")\n",
        "\n",
        "  def patientInfo(self):\n",
        "    print(\"Patients in oxygen support\")\n",
        "    for patient in self.oxygen_support:\n",
        "      print(\"\\n\")\n",
        "      print(\"Name:\", patient.name)\n",
        "      print(\"Admission Date:\", patient.admission_date)\n",
        "      print(\"symptoms:\", patient.symptoms)\n",
        "      print(\"oxygen level:\", patient.oxygen_level)\n",
        "      print(\"Discharge Date:\", patient.discharge_date)\n",
        "      print(\"\\n\")\n",
        "\n",
        "    print(\"Patients in General ward\")\n",
        "    for patient in self.general_ward:\n",
        "      print(\"Name:\", patient.name)\n",
        "      print(\"Admission Date:\", patient.admission_date)\n",
        "      print(\"symptoms:\", patient.symptoms)\n",
        "      print(\"oxygen level:\", patient.oxygen_level)\n",
        "      print(\"Discharge Date:\", patient.discharge_date)\n",
        "      print(\"\\n\")\n",
        "\n",
        "patient1 = Patient(\"JOHN\", \"15/09/2021\", [\"Fever\", \"Nausea\"], 75, \"21/09/2021\")\n",
        "patient2 = Patient(\"CHADWIK\", \"16/09/2021\", [\"Fatigue\", \"Fever\"], 110, \"22/09/2021\")\n",
        "\n",
        "db = Data()\n",
        "db.Patient(patient1)\n",
        "db.Patient(patient2)\n",
        "db.patientInfo()\n",
        "db.numberOxygen()\n",
        "db.numberGeneral()\n",
        "db.totalPatients()"
      ],
      "execution_count": null,
      "outputs": [
        {
          "output_type": "stream",
          "name": "stdout",
          "text": [
            "Patients in oxygen support\n",
            "\n",
            "\n",
            "Name: JOHN\n",
            "Admission Date: 15/09/2021\n",
            "symptoms: ['Fever', 'Nausea']\n",
            "oxygen level: 75\n",
            "Discharge Date: 21/09/2021\n",
            "\n",
            "\n",
            "Patients in General ward\n",
            "Name: CHADWIK\n",
            "Admission Date: 16/09/2021\n",
            "symptoms: ['Fatigue', 'Fever']\n",
            "oxygen level: 110\n",
            "Discharge Date: 22/09/2021\n",
            "\n",
            "\n",
            "Totaal number of patients needing oxygen support is 1\n",
            "Total number of patients in general ward is 1\n",
            "Total number of patients is 2\n"
          ]
        }
      ]
    },
    {
      "cell_type": "markdown",
      "metadata": {
        "id": "Wqg1u-kiDfjq"
      },
      "source": [
        "# **6**"
      ]
    },
    {
      "cell_type": "code",
      "metadata": {
        "colab": {
          "base_uri": "https://localhost:8080/"
        },
        "id": "e8UgzkaBDgqD",
        "outputId": "0d7f9d13-f359-4c23-e0c3-50d94ad8275b"
      },
      "source": [
        "class time():\n",
        "  def __init__(self,hr=0,min=0,sec=0):\n",
        "    self.hour = hr\n",
        "    self.minute = min\n",
        "    self.second = sec\n",
        "  def dis(self):\n",
        "    print(\"Time :\",self.hour,\":\",self.minute,\":\",self.second)\n",
        "t1 = time()\n",
        "t1.dis()\n",
        "t1.hour = 11\n",
        "t1.minute = 59\n",
        "t1.second = 59\n",
        "t1.dis()"
      ],
      "execution_count": null,
      "outputs": [
        {
          "output_type": "stream",
          "name": "stdout",
          "text": [
            "Time : 0 : 0 : 0\n",
            "Time : 11 : 59 : 59\n"
          ]
        }
      ]
    },
    {
      "cell_type": "markdown",
      "metadata": {
        "id": "UuEpHjpeDjgz"
      },
      "source": [
        "# **7**"
      ]
    },
    {
      "cell_type": "code",
      "metadata": {
        "colab": {
          "base_uri": "https://localhost:8080/"
        },
        "id": "tcowyr7wDlIi",
        "outputId": "4a090b55-07c9-4f74-c303-17219b0d59e9"
      },
      "source": [
        "class student():\n",
        "  def __init__(self,Student_Name,Student_Age,Student_Roll):\n",
        "    self.Name = Student_Name\n",
        "    self.Age = Student_Age\n",
        "    self.Roll = Student_Roll\n",
        "\n",
        "s1 = student(\"RAHUL\", 20, 30)\n",
        "s2 = student(\"ROHIT\", 19, 36)\n",
        "def check(s1, s2):\n",
        "  if s1.Age == s2.Age:\n",
        "    print(\"Age of the students are equal\")\n",
        "  else:\n",
        "    print(\"Age of the students are not equal\")\n",
        "check(s1,s2)"
      ],
      "execution_count": null,
      "outputs": [
        {
          "output_type": "stream",
          "name": "stdout",
          "text": [
            "Age of the students are not equal\n"
          ]
        }
      ]
    },
    {
      "cell_type": "markdown",
      "metadata": {
        "id": "d7Z46EjfDn16"
      },
      "source": [
        "# **8**"
      ]
    },
    {
      "cell_type": "code",
      "metadata": {
        "colab": {
          "base_uri": "https://localhost:8080/"
        },
        "id": "GFZ_d6hFDpdU",
        "outputId": "689ec70a-96f2-4535-f7c4-f4058ed11e6b"
      },
      "source": [
        "class student():\n",
        "  semester = \"3\"\n",
        "  institute = \"Indian institute of iinformation technology, Dharwad\"\n",
        "  def __init__(self,Name,USN):\n",
        "    self.Name = Name\n",
        "    self.USN = USN\n",
        "  def display(self):\n",
        "    print(\"Student Name: \",self.Name)\n",
        "    print(\"Student USN: \",self.USN)\n",
        "\n",
        "  @classmethod\n",
        "  def dis_class(cls):\n",
        "    print(\"Semester\",cls.semester)\n",
        "    print(\"Institute\",cls.institute,\"\\n\\n\")\n",
        "    \n",
        "  @staticmethod\n",
        "  def printclass(Name, USN, semester, institute):\n",
        "    print(\"Student name: \",Name)\n",
        "    print(\"student USN: \", USN)\n",
        "    print(\"semester: \",semester)\n",
        "    print(\"Institute: \",institute)\n",
        "\n",
        "s1 = student(\"Harshith.R.N\", 56)\n",
        "s1.display()\n",
        "s1.dis_class()\n",
        "s1.printclass(\"Harshith.R.N\",56,\"3\", \"Indian institute of iinformation technology, Dharwad\")"
      ],
      "execution_count": null,
      "outputs": [
        {
          "output_type": "stream",
          "name": "stdout",
          "text": [
            "Student Name:  Harshith.R.N\n",
            "Student USN:  56\n",
            "Semester 3\n",
            "Institute Indian institute of iinformation technology, Dharwad \n",
            "\n",
            "\n",
            "Student name:  Harshith.R.N\n",
            "student USN:  56\n",
            "semester:  3\n",
            "Institute:  Indian institute of iinformation technology, Dharwad\n"
          ]
        }
      ]
    },
    {
      "cell_type": "markdown",
      "metadata": {
        "id": "oD-cO0DxDsS7"
      },
      "source": [
        "# **9**"
      ]
    },
    {
      "cell_type": "code",
      "metadata": {
        "colab": {
          "base_uri": "https://localhost:8080/"
        },
        "id": "k1q-E8f-Dtdj",
        "outputId": "ffd3a67c-63d4-4014-9ba0-f04205303a73"
      },
      "source": [
        "class Student_Uni:\n",
        "\n",
        "  def __init__(self, Name, roll_number, semester, laptop_name, laptop_cpu, laptop_ram, laptop_hard_disk):\n",
        "    self.name = Name\n",
        "    self.roll_num = roll_number\n",
        "    self.sem = semester\n",
        "    self.laptop = self.Laptop(laptop_name, laptop_cpu, laptop_ram, laptop_hard_disk)\n",
        "\n",
        "\n",
        "  class Laptop:\n",
        "    def __init__(self, name, cpu, ram : int, hard_disk):\n",
        "      self.name = name\n",
        "      self.cpu = cpu\n",
        "      self.ram = ram\n",
        "      self.hard_disk = hard_disk\n",
        "\n",
        "    def specifications(self):\n",
        "      print(\"Laptop Name:\", self.name)\n",
        "      print(\"Laptop CPU:\", self.cpu)\n",
        "      print(\"Laptop RAM:\", self.ram, \"GB\")\n",
        "      print(\"Laptop Hard disk:\", self.hard_disk)\n",
        "\n",
        "  def disp(self):\n",
        "    print(\"Name:\", self.name)\n",
        "    print(\"Roll Number:\", self.roll_num)\n",
        "    print(\"Sem:\", self.sem)\n",
        "    self.laptop.specifications()\n",
        "\n",
        "x = Student_Uni(\"Harshith.R.N\", 56 , 3,\"ASUS Vivobook pro 17\", \"Intel i7\", 8, \"1TB SSD\")\n",
        "x.disp()"
      ],
      "execution_count": 25,
      "outputs": [
        {
          "output_type": "stream",
          "name": "stdout",
          "text": [
            "Name: Harshith.R.N\n",
            "Roll Number: 56\n",
            "Sem: 3\n",
            "Laptop Name: ASUS Vivobook pro 17\n",
            "Laptop CPU: Intel i7\n",
            "Laptop RAM: 8 GB\n",
            "Laptop Hard disk: 1TB SSD\n"
          ]
        }
      ]
    }
  ]
}