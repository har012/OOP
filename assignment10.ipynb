{
  "nbformat": 4,
  "nbformat_minor": 0,
  "metadata": {
    "colab": {
      "name": "Untitled0.ipynb",
      "provenance": [],
      "authorship_tag": "ABX9TyNdXoi7DWKvsn9z1vZ/KUkR",
      "include_colab_link": true
    },
    "kernelspec": {
      "name": "python3",
      "display_name": "Python 3"
    },
    "language_info": {
      "name": "python"
    }
  },
  "cells": [
    {
      "cell_type": "markdown",
      "metadata": {
        "id": "view-in-github",
        "colab_type": "text"
      },
      "source": [
        "<a href=\"https://colab.research.google.com/github/har012/OOP/blob/main/Untitled0.ipynb\" target=\"_parent\"><img src=\"https://colab.research.google.com/assets/colab-badge.svg\" alt=\"Open In Colab\"/></a>"
      ]
    },
    {
      "cell_type": "code",
      "metadata": {
        "colab": {
          "base_uri": "https://localhost:8080/"
        },
        "id": "_uI4wfXhRTzp",
        "outputId": "aee68d31-f5f3-4f22-cc29-8305cd009ad2"
      },
      "source": [
        "year = int(input(\"Enter the Year: \"))\n",
        "\n",
        "def checkyear(year):\n",
        "  if(year%400 == 0):\n",
        "    print('It is a leap year')\n",
        "    return(True)\n",
        "    \n",
        "  elif(year%4==0 and year %100 != 0):\n",
        "    print('It is a leap year')\n",
        "    return(True)\n",
        "    \n",
        "  else:\n",
        "    print('It is not a leap year')\n",
        "    return(False)\n",
        "    \n",
        "checkyear(year)"
      ],
      "execution_count": 4,
      "outputs": [
        {
          "output_type": "stream",
          "name": "stdout",
          "text": [
            "Enter the Year: 1999\n",
            "It is not a leap year\n"
          ]
        },
        {
          "output_type": "execute_result",
          "data": {
            "text/plain": [
              "False"
            ]
          },
          "metadata": {},
          "execution_count": 4
        }
      ]
    },
    {
      "cell_type": "code",
      "metadata": {
        "colab": {
          "base_uri": "https://localhost:8080/"
        },
        "id": "-1xJJroKR-fJ",
        "outputId": "2df7d76e-5537-4b6e-8896-cf62c02367b8"
      },
      "source": [
        "n = int(input(\"Enter a number: \"))\n",
        "if(n%2 != 0):\n",
        "  print(\"Weird\")  \n",
        "elif(n%2 == 0):\n",
        "  if(n>= 2 and n<=5):\n",
        "    print(\"Not Weird\")\n",
        "  if(n>=6 and n<=20):\n",
        "    print(\"Weird\")\n",
        "  if(n>20):\n",
        "    print(\"Not Weird\")"
      ],
      "execution_count": 5,
      "outputs": [
        {
          "output_type": "stream",
          "name": "stdout",
          "text": [
            "Enter a number: 16\n",
            "Weird\n"
          ]
        }
      ]
    },
    {
      "cell_type": "code",
      "metadata": {
        "id": "IX_2a2iHSBcz"
      },
      "source": [
        "n = int(input(\"Enter the number of guests: \"))\n",
        "guests = []\n",
        "for i in range(0, n):\n",
        "  name = str(input(\"enter the name of guests: \"))\n",
        "  guests.append([name])\n",
        "print(\"Guests are: \", guests)\n",
        "if(n%2==0):\n",
        "  for k in range( int((n)/2) , n-1):\n",
        "    print(\"\\nFashionable late persons are: \", guests[k])\n",
        "elif(n%2 != 0):\n",
        "  for k in range( int((n-1)/2) , n-1):\n",
        "    print(\"\\nFashionable late persons are: \", guests[k])"
      ],
      "execution_count": null,
      "outputs": []
    },
    {
      "cell_type": "code",
      "metadata": {
        "id": "5fURf8oHSEHl"
      },
      "source": [
        "def word_search_2(title_list, keyword):\n",
        "    # make lowercase and remove punctuation\n",
        "    keyword = keyword.lower().strip('.,')\n",
        "\n",
        "    result_list = []\n",
        "    for i, title in enumerate(title_list):\n",
        "        # make lowercase and remove punctuation, then split into words\n",
        "        words = title.lower().strip('.,').split()\n",
        "\n",
        "        if keyword in words:\n",
        "            result_list.append((i, title))\n",
        "\n",
        "    return result_list\n",
        "\n",
        "if _name_ == '_main_':\n",
        "    docs = ['The Learn Python Challenge by Mahi','El do-rado','The mysterious house','Casinoville?',]\n",
        "    w = 'house'\n",
        "\n",
        "    print(word_search_2(docs, w))"
      ],
      "execution_count": null,
      "outputs": []
    },
    {
      "cell_type": "code",
      "metadata": {
        "id": "0yzOXAmZSEug"
      },
      "source": [
        "BP = float(input(\"Enter the Basic Pay: \"))\n",
        "DA = (40*BP)/100\n",
        "HRA = (20*BP)/100\n",
        "GP = BP + DA + HRA\n",
        "print('Gross pay is:',GP)"
      ],
      "execution_count": null,
      "outputs": []
    }
  ]
}
